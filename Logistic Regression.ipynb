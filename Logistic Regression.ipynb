{
 "cells": [
  {
   "cell_type": "code",
   "execution_count": 11,
   "metadata": {},
   "outputs": [],
   "source": [
    "file = r\"data/data.csv\""
   ]
  },
  {
   "cell_type": "code",
   "execution_count": 16,
   "metadata": {},
   "outputs": [],
   "source": [
    "import numpy as np\n",
    "from math import *\n",
    "import pandas as pd\n",
    "import matplotlib.pyplot as plt"
   ]
  },
  {
   "cell_type": "code",
   "execution_count": 17,
   "metadata": {},
   "outputs": [
    {
     "name": "stderr",
     "output_type": "stream",
     "text": [
      "C:\\Anaconda3\\lib\\site-packages\\sklearn\\cross_validation.py:41: DeprecationWarning: This module was deprecated in version 0.18 in favor of the model_selection module into which all the refactored classes and functions are moved. Also note that the interface of the new CV iterators are different from that of this module. This module will be removed in 0.20.\n",
      "  \"This module will be removed in 0.20.\", DeprecationWarning)\n"
     ]
    }
   ],
   "source": [
    "from sklearn.cross_validation import train_test_split\n",
    "from sklearn import preprocessing\n",
    "\n",
    "min_max_scaler = preprocessing.MinMaxScaler(feature_range=(-1,1))\n",
    "\n",
    "df = pd.read_csv(file,header = 0)\n",
    "df.columns = [\"grade1\",\"grade2\",\"label\"]\n",
    "x = df[\"label\"].map(lambda x: float(x.rstrip(';')))\n",
    "\n",
    "# formats the input data into two arrays, one of independant variables\n",
    "# and one of the dependant variable\n",
    "X = df[[\"grade1\",\"grade2\"]]\n",
    "X = np.array(X)\n",
    "X = min_max_scaler.fit_transform(X)\n",
    "Y = df[\"label\"].map(lambda x: float(x.rstrip(';')))\n",
    "Y = np.array(Y)\n",
    "\n",
    "X_train,X_test,Y_train,Y_test = train_test_split(X,Y,test_size=0.33)"
   ]
  },
  {
   "cell_type": "code",
   "execution_count": 18,
   "metadata": {},
   "outputs": [],
   "source": [
    "def drow_plot(x, y, clf):\n",
    "    h = .02  # step size in the mesh\n",
    "\n",
    "    x_min, x_max = x[:, 0].min() - .5, x[:, 0].max() + .5\n",
    "    y_min, y_max = x[:, 1].min() - .5, x[:, 1].max() + .5\n",
    "    xx, yy = np.meshgrid(np.arange(x_min, x_max, h), np.arange(y_min, y_max, h))\n",
    "    Z = clf.predict(np.c_[xx.ravel(), yy.ravel()])\n",
    "\n",
    "    Z = Z.reshape(xx.shape)\n",
    "    plt.figure(1, figsize=(6, 4))\n",
    "    plt.pcolormesh(xx, yy, Z, cmap=plt.cm.Blues)\n",
    "\n",
    "\n",
    "    # plt.scatter(X[:, 0], X[:, 1], c=Y, edgecolors='k', cmap=plt.cm.Paired)\n",
    "    pos = np.where(y == 1)\n",
    "    neg = np.where(y == 0)\n",
    "    plt.scatter(x[pos, 0], x[pos, 1],cmap=plt.cm.Blues, edgecolors='k')\n",
    "    plt.scatter(x[neg, 0], x[neg, 1], cmap=plt.cm.Blues_r, edgecolors='k')\n",
    "\n",
    "    plt.xlabel('Sepal length')\n",
    "    plt.ylabel('Sepal width')\n",
    "\n",
    "    plt.xlim(xx.min(), xx.max())\n",
    "    plt.ylim(yy.min(), yy.max())\n",
    "    plt.xlabel('Exam 1 score')\n",
    "    plt.ylabel('Exam 2 score')\n",
    "    plt.legend(['Not Admitted', 'Admitted'])\n",
    "    plt.show()"
   ]
  },
  {
   "cell_type": "code",
   "execution_count": 19,
   "metadata": {},
   "outputs": [],
   "source": [
    "def plot_data(x, y):\n",
    "    pos = np.where(y == 1)\n",
    "    neg = np.where(y == 0)\n",
    "    plt.scatter(x[pos, 0], x[pos, 1],cmap=plt.cm.Paired, edgecolors='k')\n",
    "    plt.scatter(x[neg, 0], x[neg, 1], cmap=plt.cm.Paired, edgecolors='k')\n",
    "    plt.xlabel('Exam 1 score')\n",
    "    plt.ylabel('Exam 2 score')\n",
    "    plt.legend(['Not Admitted', 'Admitted'])\n",
    "    plt.grid()\n",
    "    plt.show()"
   ]
  },
  {
   "cell_type": "code",
   "execution_count": 20,
   "metadata": {},
   "outputs": [
    {
     "data": {
      "image/png": "[encoded data removed]",
      "text/plain": [
       "<matplotlib.figure.Figure at 0x2015eeb86a0>"
      ]
     },
     "metadata": {},
     "output_type": "display_data"
    }
   ],
   "source": [
    "plot_data(X, Y)"
   ]
  },
  {
   "cell_type": "code",
   "execution_count": 44,
   "metadata": {},
   "outputs": [],
   "source": [
    "class LogisticRegression:\n",
    "    \n",
    "    initial_theta = [0, 0]\n",
    "     \n",
    "    def __init__(self, alpha = 0.1, iteration = 1000):\n",
    "        self.alpha = alpha\n",
    "        self.iteration = iteration\n",
    "    \n",
    "    def cost_function(self, x, y, theta, m):\n",
    "        sum_of_error = 0\n",
    "        for i in range(m):\n",
    "\n",
    "            xi = x[i]\n",
    "            h = self.hypothesis(xi, theta)\n",
    "            if y[i] == 1:\n",
    "                error = y[i] * np.log(h)\n",
    "            elif y[i] == 0:\n",
    "                error = (1 - y[i]) * np.log(1 - h)\n",
    "            sum_of_error += error\n",
    "        cons = -1 / float(m)\n",
    "        j = cons * sum_of_error\n",
    "        print('Cost Is : ', j)\n",
    "        return j\n",
    "    \n",
    "    def predict(self, X):\n",
    "        theta = np.asarray(self.initial_theta)\n",
    "        X = np.asarray(X).T\n",
    "        z = theta.T.dot(X) + theta.T.dot(X**2) + theta.T.dot(X**3)\n",
    "        h = 1 / (1 + np.exp(-z))\n",
    "        result = []\n",
    "        for i in h:\n",
    "            if i >= 0.5:\n",
    "                result.append(1)\n",
    "            else:\n",
    "                result.append(0)\n",
    "        return np.array(result)\n",
    "    \n",
    "    def hypothesis(self, X, theta):\n",
    "        theta = np.asarray(self.initial_theta)\n",
    "        X = np.asarray(X).T\n",
    "        z = theta.T.dot(X)\n",
    "        h = 1 / (1 + np.exp(-z))\n",
    "        return h\n",
    "    \n",
    "    def fit(self, x, y):\n",
    "        m = len(y)\n",
    "        alpha = self.alpha\n",
    "        iteration = self.iteration\n",
    "        theta = self.initial_theta\n",
    "        lemda = 0.1\n",
    "        \n",
    "        for k in range(iteration):\n",
    "            new_theta = []\n",
    "            for j in range(len(theta)):                \n",
    "                errorSum = 0\n",
    "                for i in range(m):\n",
    "\n",
    "                    xi = x[i]\n",
    "                    xij = xi[j]\n",
    "                    h = self.hypothesis(xi, theta)\n",
    "                    errorSum += (h - y[i]) * xij + (lemda / m)  * theta[j]\n",
    "\n",
    "                const = alpha / m\n",
    "                j_theta = const * errorSum\n",
    "                new_t = theta[j] - j_theta\n",
    "                new_theta.append(new_t)\n",
    "            theta = new_theta\n",
    "            if k % 100 == 0:\n",
    "                self.cost_function(x, y, theta , m)\n",
    "            self.initial_theta = theta"
   ]
  },
  {
   "cell_type": "code",
   "execution_count": 45,
   "metadata": {},
   "outputs": [],
   "source": [
    "reg = LogisticRegression()"
   ]
  },
  {
   "cell_type": "code",
   "execution_count": 46,
   "metadata": {},
   "outputs": [
    {
     "name": "stdout",
     "output_type": "stream",
     "text": [
      "Cost Is :  0.69314718056\n",
      "Cost Is :  0.461285857486\n",
      "Cost Is :  0.387123344357\n",
      "Cost Is :  0.352153665727\n",
      "Cost Is :  0.331977431611\n",
      "Cost Is :  0.318925789541\n",
      "Cost Is :  0.309846128221\n",
      "Cost Is :  0.303204893122\n",
      "Cost Is :  0.298165962135\n",
      "Cost Is :  0.294234417589\n"
     ]
    }
   ],
   "source": [
    "reg.fit(X_train, Y_train)"
   ]
  },
  {
   "cell_type": "code",
   "execution_count": 47,
   "metadata": {},
   "outputs": [
    {
     "data": {
      "text/plain": [
       "0.93939393939393945"
      ]
     },
     "execution_count": 47,
     "metadata": {},
     "output_type": "execute_result"
    }
   ],
   "source": [
    "from sklearn.metrics import accuracy_score\n",
    "\n",
    "pred = reg.predict(X_test)\n",
    "\n",
    "accuracy_score(pred, Y_test)"
   ]
  },
  {
   "cell_type": "code",
   "execution_count": 48,
   "metadata": {},
   "outputs": [
    {
     "data": {
      "image/png": "[encoded data removed]",
      "text/plain": [
       "<matplotlib.figure.Figure at 0x201627c0828>"
      ]
     },
     "metadata": {},
     "output_type": "display_data"
    }
   ],
   "source": [
    "drow_plot(X_test, Y_test, reg)"
   ]
  },
  {
   "cell_type": "code",
   "execution_count": null,
   "metadata": {},
   "outputs": [],
   "source": []
  }
 ],
 "metadata": {
  "kernelspec": {
   "display_name": "Python 3",
   "language": "python",
   "name": "python3"
  },
  "language_info": {
   "codemirror_mode": {
    "name": "ipython",
    "version": 3
   },
   "file_extension": ".py",
   "mimetype": "text/x-python",
   "name": "python",
   "nbconvert_exporter": "python",
   "pygments_lexer": "ipython3",
   "version": "3.6.2"
  }
 },
 "nbformat": 4,
 "nbformat_minor": 2
}
